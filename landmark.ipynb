{
 "cells": [
  {
   "cell_type": "code",
   "execution_count": 1,
   "metadata": {
    "scrolled": true
   },
   "outputs": [
    {
     "data": {
      "text/markdown": [
       "## Project Overview\n",
       "\n",
       "Welcome to the Convolutional Neural Networks (CNN) project!\n",
       "In this project, you will learn how to build a pipeline to process real-world, user-supplied images.\n",
       "Given an image, your algorithm will predict the most likely locations where the image was taken.\n",
       "\n",
       "![Sample Output](landmark_project/images/sample_landmark_output.png)\n",
       "\n",
       "By completing this lab, you demonstrate your understanding of the challenges involved in piecing together a series of models designed to perform various tasks in a data processing pipeline.\n",
       "\n",
       "Each model has its strengths and weaknesses, and engineering a real-world application often involves solving many problems without a perfect answer.\n",
       "\n",
       "\n",
       "## Project Instructions\n",
       "\n",
       "### Instructions\n",
       "\n",
       "1. Clone the repository and navigate to the downloaded folder.\n",
       "\t\n",
       "\t```\t\n",
       "\t\tgit clone https://github.com/udacity/nd101-c2-landmarks-starter.git\n",
       "\t\tcd nd101-c2-landmarks-starter/landmark_project\n",
       "\t```\n",
       "2. Download the dataset included below in the \"Dataset Info\" section. Note that this will be provided for you if using the workspace in the Udacity classroom.\n",
       "3. Open a terminal window and navigate to the project folder. Open the notebook and follow the instructions.\n",
       "\t\n",
       "\t```\n",
       "\t\tjupyter notebook landmark.ipynb\n",
       "\t```\n",
       "\n",
       "__NOTE:__ While some code has already been implemented to get you started, you will need to implement additional functionality to successfully answer all of the questions included in the notebook. __Unless requested, do not modify code that has already been included.__\n",
       "\n",
       "__NOTE:__ In the notebook, you will need to train CNNs in PyTorch.  If your CNN is taking too long to train, feel free to pursue one of the options under the section __Accelerating the Training Process__ below.\n",
       "\n",
       "\n",
       "\n",
       "## (Optionally) Accelerating the Training Process \n",
       "\n",
       "If your code is taking too long to run, you will need to either reduce the complexity of your chosen CNN architecture or switch to running your code on a GPU.  If you'd like to use a GPU, you can spin up an instance of your own:\n",
       "\n",
       "### Classroom GPU Workspace\n",
       "\n",
       "A GPU workspace is available from within the Udacity classroom. Make sure you save your notebook and any related files, then click on the \"Enable\" button next to the GPU hours.\n",
       "\n",
       "### Amazon Web Services\n",
       "\n",
       "You can also use Amazon Web Services to launch an EC2 GPU instance.\n",
       "\n",
       "## Evaluation\n",
       "\n",
       "Your project will be reviewed by a Udacity reviewer against the CNN project rubric (linked in the classroom).  Review the rubric thoroughly and self-evaluate your project before submission.  All criteria found in the rubric must meet specifications for you to pass.\n",
       "\n",
       "## Project Submission\n",
       "\n",
       "Your submission should consist of the github link to your repository.  Your repository should contain:\n",
       "- The `landmark.ipynb` file with fully functional code, all code cells executed and displaying output, and all questions answered.\n",
       "- An HTML or PDF export of the project notebook with the name `report.html` or `report.pdf`.\n",
       "\n",
       "Please do __NOT__ include any of the project data sets provided in the `landmark_images/` folder.\n",
       "\n",
       "### Ready to submit your project?\n",
       "\n",
       "Click on the \"Submit Project\" button in the classroom and follow the instructions to submit!\n",
       "\n",
       "## Dataset Info\n",
       "\n",
       "The landmark images are a subset of the Google Landmarks Dataset v2. If you are using the\n",
       "classroom workspace, the dataset is provided therein; otherwise it can be obtained using\n",
       "[this link](https://udacity-dlnfd.s3-us-west-1.amazonaws.com/datasets/landmark_images.zip).\n",
       "\n",
       "You can find license information for the full dataset [on Kaggle](https://www.kaggle.com/google/google-landmarks-dataset).\n"
      ],
      "text/plain": [
       "<IPython.core.display.Markdown object>"
      ]
     },
     "metadata": {},
     "output_type": "display_data"
    }
   ],
   "source": [
    "from IPython.display import Markdown, display\n",
    "\n",
    "display(Markdown(\"../../../../landmarks-project/README.md\"))\n"
   ]
  },
  {
   "cell_type": "markdown",
   "metadata": {},
   "source": [
    "# Convolutional Neural Networks\n",
    "\n",
    "## Project: Write an Algorithm for Landmark Classification\n",
    "\n",
    "---\n",
    "\n",
    "In this notebook, some template code has already been provided for you, and you will need to implement additional functionality to successfully complete this project. You will not need to modify the included code beyond what is requested. Sections that begin with **'(IMPLEMENTATION)'** in the header indicate that the following block of code will require additional functionality which you must provide. Instructions will be provided for each section, and the specifics of the implementation are marked in the code block with a 'TODO' statement. Please be sure to read the instructions carefully! \n",
    "\n",
    "> **Note**: Once you have completed all the code implementations, you need to finalize your work by exporting the Jupyter Notebook as an HTML document. Before exporting the notebook to HTML, all the code cells need to have been run so that reviewers can see the final implementation and output. You can then export the notebook by using the menu above and navigating to **File -> Download as -> HTML (.html)**. Include the finished document along with this notebook as your submission.\n",
    "\n",
    "In addition to implementing code, there will be questions that you must answer which relate to the project and your implementation. Each section where you will answer a question is preceded by a **'Question X'** header. Carefully read each question and provide thorough answers in the following text boxes that begin with **'Answer:'**. Your project submission will be evaluated based on your answers to each of the questions and the implementation you provide.\n",
    "\n",
    ">**Note:** Code and Markdown cells can be executed using the **Shift + Enter** keyboard shortcut.  Markdown cells can be edited by double-clicking the cell to enter edit mode.\n",
    "\n",
    "The rubric contains _optional_ \"Stand Out Suggestions\" for enhancing the project beyond the minimum requirements. If you decide to pursue the \"Stand Out Suggestions\", you should include the code in this Jupyter notebook.\n",
    "\n",
    "---\n",
    "### Why We're Here\n",
    "\n",
    "Photo sharing and photo storage services like to have location data for each photo that is uploaded. With the location data, these services can build advanced features, such as automatic suggestion of relevant tags or automatic photo organization, which help provide a compelling user experience. Although a photo's location can often be obtained by looking at the photo's metadata, many photos uploaded to these services will not have location metadata available. This can happen when, for example, the camera capturing the picture does not have GPS or if a photo's metadata is scrubbed due to privacy concerns.\n",
    "\n",
    "If no location metadata for an image is available, one way to infer the location is to detect and classify a discernible landmark in the image. Given the large number of landmarks across the world and the immense volume of images that are uploaded to photo sharing services, using human judgement to classify these landmarks would not be feasible.\n",
    "\n",
    "In this notebook, you will take the first steps towards addressing this problem by building models to automatically predict the location of the image based on any landmarks depicted in the image. At the end of this project, your code will accept any user-supplied image as input and suggest the top k most relevant landmarks from 50 possible landmarks from across the world. The image below displays a potential sample output of your finished project.\n",
    "\n",
    "![Sample landmark classification output](images/sample_landmark_output.png)\n",
    "\n",
    "\n",
    "### The Road Ahead\n",
    "\n",
    "We break the notebook into separate steps.  Feel free to use the links below to navigate the notebook.\n",
    "\n",
    "* [Step 0](#step0): Download Datasets and Install Python Modules\n",
    "* [Step 1](#step1): Create a CNN to Classify Landmarks (from Scratch)\n",
    "* [Step 2](#step2): Create a CNN to Classify Landmarks (using Transfer Learning)\n",
    "* [Step 3](#step3): Write Your Landmark Prediction Algorithm\n",
    "\n",
    "---\n",
    "<a id='step0'></a>\n",
    "## Step 0: Download Datasets and Install Python Modules\n",
    "\n",
    "**Note: if you are using the Udacity workspace, *YOU CAN SKIP THIS STEP*. The dataset can be found in the `/data` folder and all required Python modules have been installed in the workspace.**\n",
    "\n",
    "Download the [landmark dataset](https://udacity-dlnfd.s3-us-west-1.amazonaws.com/datasets/landmark_images.zip).\n",
    "Unzip the folder and place it in this project's home directory, at the location `/landmark_images`.\n",
    "\n",
    "Install the following Python modules:\n",
    "* cv2\n",
    "* matplotlib\n",
    "* numpy\n",
    "* PIL\n",
    "* torch\n",
    "* torchvision"
   ]
  },
  {
   "cell_type": "markdown",
   "metadata": {},
   "source": [
    "---\n",
    "\n",
    "<a id='step1'></a>\n",
    "## Step 1: Create a CNN to Classify Landmarks (from Scratch)\n",
    "\n",
    "In this step, you will create a CNN that classifies landmarks.  You must create your CNN _from scratch_ (so, you can't use transfer learning _yet_!), and you must attain a test accuracy of at least 20%.\n",
    "\n",
    "Although 20% may seem low at first glance, it seems more reasonable after realizing how difficult of a problem this is. Many times, an image that is taken at a landmark captures a fairly mundane image of an animal or plant, like in the following picture.\n",
    "\n",
    "<img src=\"images/train/00.Haleakala_National_Park/084c2aa50d0a9249.jpg\" alt=\"Bird in Haleakalā National Park\" style=\"width: 400px;\"/>\n",
    "\n",
    "Just by looking at that image alone, would you have been able to guess that it was taken at the Haleakalā National Park in Hawaii?\n",
    "\n",
    "An accuracy of 20% is significantly better than random guessing, which would provide an accuracy of just 2%. In Step 2 of this notebook, you will have the opportunity to greatly improve accuracy by using transfer learning to create a CNN.\n",
    "\n",
    "Remember that practice is far ahead of theory in deep learning.  Experiment with many different architectures, and trust your intuition.  And, of course, have fun!"
   ]
  },
  {
   "cell_type": "markdown",
   "metadata": {},
   "source": [
    "### (IMPLEMENTATION) Specify Data Loaders for the Landmark Dataset\n",
    "\n",
    "Use the code cell below to create three separate [data loaders](http://pytorch.org/docs/stable/data.html#torch.utils.data.DataLoader): one for training data, one for validation data, and one for test data. Randomly split the images located at `landmark_images/train` to create the train and validation data loaders, and use the images located at `landmark_images/test` to create the test data loader.\n",
    "\n",
    "All three of your data loaders should be accessible via a dictionary named `loaders_scratch`. Your train data loader should be at `loaders_scratch['train']`, your validation data loader should be at `loaders_scratch['valid']`, and your test data loader should be at `loaders_scratch['test']`.\n",
    "\n",
    "You may find [this documentation on custom datasets](https://pytorch.org/docs/stable/torchvision/datasets.html#datasetfolder) to be a useful resource.  If you are interested in augmenting your training and/or validation data, check out the wide variety of [transforms](http://pytorch.org/docs/stable/torchvision/transforms.html?highlight=transform)!"
   ]
  },
  {
   "cell_type": "code",
   "execution_count": 2,
   "metadata": {},
   "outputs": [],
   "source": [
    "### TODO: Write data loaders for training, validation, and test sets\n",
    "## Specify appropriate transforms, and batch_sizes\n",
    "\n",
    "import os\n",
    "import torch\n",
    "import numpy as np\n",
    "\n",
    "import torchvision\n",
    "from torchvision import datasets, models, transforms\n",
    "import torchvision.transforms as transforms\n",
    "from torch.utils.data.sampler import SubsetRandomSampler\n",
    "\n",
    "data_dir = '../landmark_images'\n",
    "img_size = (32, 32)\n",
    "\n",
    "\n",
    "data_transform = transforms.Compose([transforms.Resize(img_size), \n",
    "                                     transforms.RandomRotation(10),\n",
    "                                     transforms.ToTensor(),\n",
    "                                     transforms.Normalize((0.5, 0.5, 0.5), (0.5, 0.5, 0.5))\n",
    "                                     ])\n",
    "\n",
    "\n",
    "train_dir = os.path.join(data_dir, 'train/')\n",
    "test_dir = os.path.join(data_dir, 'test/')\n",
    "train_data = datasets.ImageFolder(train_dir, transform=data_transform)\n",
    "test_data = datasets.ImageFolder(test_dir, transform=data_transform)\n",
    "\n",
    "\n",
    "num_workers=0\n",
    "# how many samples per batch to load\n",
    "batch_size = 20\n",
    "# percentage of training set to use as validation = 20%\n",
    "valid_size = 0.2\n",
    "\n",
    "num_train = len(train_data)\n",
    "num_test = len(test_data)\n",
    "indices = list(range(num_train))\n",
    "np.random.shuffle(indices)\n",
    "split = int(np.floor(valid_size * num_train))\n",
    "train_idx, valid_idx = indices[split:], indices[:split]\n",
    "\n",
    "# define samplers for obtaining training and validation batches\n",
    "train_sampler = SubsetRandomSampler(train_idx)\n",
    "valid_sampler = SubsetRandomSampler(valid_idx)\n",
    "\n",
    "# prepare data loaders (combine dataset and sampler)\n",
    "train_loader = torch.utils.data.DataLoader(train_data, batch_size=batch_size,\n",
    "    sampler=train_sampler, num_workers=num_workers)\n",
    "valid_loader = torch.utils.data.DataLoader(train_data, batch_size=batch_size, \n",
    "    sampler=valid_sampler, num_workers=num_workers)\n",
    "test_loader = torch.utils.data.DataLoader(test_data, batch_size=batch_size, \n",
    "    num_workers=num_workers)\n",
    "\n",
    "\n",
    "loaders_scratch = {'train': train_loader, 'valid': valid_loader, 'test': test_loader}\n"
   ]
  },
  {
   "cell_type": "code",
   "execution_count": 3,
   "metadata": {},
   "outputs": [
    {
     "name": "stdout",
     "output_type": "stream",
     "text": [
      "../landmark_images/train/ ../landmark_images/test/\n",
      "4996   1250\n"
     ]
    }
   ],
   "source": [
    "print(train_dir, test_dir)\n",
    "\n",
    "print(num_train, \" \", num_test)\n"
   ]
  },
  {
   "cell_type": "markdown",
   "metadata": {},
   "source": [
    "**Question 1:** Describe your chosen procedure for preprocessing the data. \n",
    "- How does your code resize the images (by cropping, stretching, etc)?  What size did you pick for the input tensor, and why?\n",
    "- Did you decide to augment the dataset?  If so, how (through translations, flips, rotations, etc)?  If not, why not?"
   ]
  },
  {
   "cell_type": "markdown",
   "metadata": {},
   "source": [
    "**Answer**:\n",
    "- I simply stretched to a square and made them as small as possible in order to train fast\n",
    "- Yes, slightly, by a small random rotation to improve tolerance to small rotations in photos "
   ]
  },
  {
   "cell_type": "markdown",
   "metadata": {},
   "source": [
    "### (IMPLEMENTATION) Visualize a Batch of Training Data\n",
    "\n",
    "Use the code cell below to retrieve a batch of images from your train data loader, display at least 5 images simultaneously, and label each displayed image with its class name (e.g., \"Golden Gate Bridge\").\n",
    "\n",
    "Visualizing the output of your data loader is a great way to ensure that your data loading and preprocessing are working as expected."
   ]
  },
  {
   "cell_type": "code",
   "execution_count": 4,
   "metadata": {},
   "outputs": [],
   "source": [
    "import matplotlib.pyplot as plt\n",
    "%matplotlib inline\n",
    "\n",
    "## TODO: visualize a batch of the train data loader\n",
    "\n",
    "## the class names can be accessed at the `classes` attribute\n",
    "## of your dataset object (e.g., `train_dataset.classes`)\n",
    "\n",
    "# helper function to un-normalize and display an image\n",
    "def imshow(img):\n",
    "    img = img / 2 + 0.5  # unnormalize\n",
    "    plt.imshow(np.transpose(img, (1, 2, 0)))  # convert from Tensor image\n"
   ]
  },
  {
   "cell_type": "code",
   "execution_count": 5,
   "metadata": {},
   "outputs": [
    {
     "name": "stdout",
     "output_type": "stream",
     "text": [
      "(3, 32, 32)\n"
     ]
    },
    {
     "data": {
      "image/png": "[encoded data removed]",
      "text/plain": [
       "<Figure size 1800x576 with 10 Axes>"
      ]
     },
     "metadata": {},
     "output_type": "display_data"
    }
   ],
   "source": [
    "# obtain one batch of training images\n",
    "dataiter = iter(train_loader)\n",
    "dataiter = iter(valid_loader)\n",
    "#dataiter = iter(test_loader)\n",
    "images, labels = dataiter.next()\n",
    "images = images.numpy() # convert images to numpy for display\n",
    "\n",
    "classes = train_data.classes\n",
    "\n",
    "print(images[0].shape)\n",
    "# plot the images in the batch, along with the corresponding labels\n",
    "fig = plt.figure(figsize=(25, 8))\n",
    "# display 20 images\n",
    "images_to_display = 10\n",
    "for idx in np.arange(images_to_display):\n",
    "    ax = fig.add_subplot(2, int(images_to_display/2), idx+1, xticks=[], yticks=[])\n",
    "    imshow(images[idx])\n",
    "    ax.set_title(classes[int(labels[idx])])\n"
   ]
  },
  {
   "cell_type": "markdown",
   "metadata": {},
   "source": [
    "### Initialize use_cuda variable"
   ]
  },
  {
   "cell_type": "code",
   "execution_count": 6,
   "metadata": {},
   "outputs": [
    {
     "data": {
      "text/plain": [
       "False"
      ]
     },
     "execution_count": 6,
     "metadata": {},
     "output_type": "execute_result"
    }
   ],
   "source": [
    "# useful variable that tells us whether we should use the GPU\n",
    "use_cuda = torch.cuda.is_available()\n",
    "use_cuda"
   ]
  },
  {
   "cell_type": "markdown",
   "metadata": {},
   "source": [
    "### (IMPLEMENTATION) Specify Loss Function and Optimizer\n",
    "\n",
    "Use the next code cell to specify a [loss function](http://pytorch.org/docs/stable/nn.html#loss-functions) and [optimizer](http://pytorch.org/docs/stable/optim.html).  Save the chosen loss function as `criterion_scratch`, and fill in the function `get_optimizer_scratch` below."
   ]
  },
  {
   "cell_type": "code",
   "execution_count": 7,
   "metadata": {},
   "outputs": [],
   "source": [
    "from torch import nn\n",
    "import torch.optim as optim\n",
    "\n",
    "## TODO: select loss function\n",
    "criterion_scratch = nn.NLLLoss()\n",
    "\n",
    "def get_optimizer_scratch(model):\n",
    "    ## TODO: select and return an optimizer\n",
    "    return optim.SGD(model.parameters(), lr=0.05)\n",
    "    \n",
    "    \n",
    "    "
   ]
  },
  {
   "cell_type": "markdown",
   "metadata": {},
   "source": [
    "### (IMPLEMENTATION) Model Architecture\n",
    "\n",
    "Create a CNN to classify images of landmarks.  Use the template in the code cell below."
   ]
  },
  {
   "cell_type": "code",
   "execution_count": 8,
   "metadata": {},
   "outputs": [],
   "source": [
    "import torch.nn as nn\n",
    "import torch.nn.functional as F\n",
    "\n",
    "    \n",
    "# define the CNN architecture\n",
    "class Net(nn.Module):\n",
    "    ## TODO: choose an architecture, and complete the class\n",
    "    def __init__(self):\n",
    "        super(Net, self).__init__()\n",
    "        \n",
    "        self.max_linear_size = img_size[0]*img_size[1]*2\n",
    "        ## Define layers of a CNN\n",
    "        self.conv1 = nn.Conv2d(3, 16, 3, padding=1)\n",
    "        self.conv2 = nn.Conv2d(16, 64, 3, padding=1)\n",
    "        self.conv3 = nn.Conv2d(64, 128, 3, padding=1)\n",
    "\n",
    "        self.pool = nn.MaxPool2d(2, 2)\n",
    "\n",
    "        self.fc1 = nn.Linear(self.max_linear_size, 1024)\n",
    "        self.fc2 = nn.Linear(1024, 50)\n",
    "        \n",
    "        self.dropout = nn.Dropout(p=0.2)\n",
    "        \n",
    "    \n",
    "    def forward(self, x):\n",
    "        ## Define forward behavior\n",
    "\n",
    "        x = self.pool(F.relu(self.conv1(x)))\n",
    "        x = self.pool(F.relu(self.conv2(x)))\n",
    "        x = self.pool(F.relu(self.conv3(x)))\n",
    "\n",
    "        x = x.reshape(x.shape[0], self.max_linear_size) # flatten\n",
    "\n",
    "        x = self.dropout(F.relu(self.fc1(x)))\n",
    "        x = F.log_softmax(self.fc2(x), dim=1)\n",
    "        \n",
    "        return x\n",
    "\n",
    "#-#-# Do NOT modify the code below this line. #-#-#\n",
    "\n",
    "# instantiate the CNN\n",
    "model_scratch = Net()\n",
    "\n",
    "# move tensors to GPU if CUDA is available\n",
    "if use_cuda:\n",
    "    model_scratch.cuda()"
   ]
  },
  {
   "cell_type": "markdown",
   "metadata": {},
   "source": [
    "__Question 2:__ Outline the steps you took to get to your final CNN architecture and your reasoning at each step.  "
   ]
  },
  {
   "cell_type": "markdown",
   "metadata": {},
   "source": [
    "__Answer:__  \n",
    "\n",
    "I decided to use 3 convolutional layers as I expect to detect the features that I need in order to identify landmarks already at a lower level.\n",
    "I'm pooling with maxpool to reduce imagesize by four at each convolutional layer, at the same time I extend the depth of the layer by two, therefore keeping fully connected layers small enough and hence not increasing parameters too much.\n",
    "\n",
    "I use dropout in the fc-layer to reduce risk of overfitting.\n",
    "And finally I apply log-softmax to get logarithmic class-probabilities for our classification task, which goes well together with the negative log likelyhood loss criterion.\n",
    "\n",
    "For the optimization I work with the SGD optimizer to train fast with simple setup."
   ]
  },
  {
   "cell_type": "markdown",
   "metadata": {},
   "source": [
    "### (IMPLEMENTATION) Implement the Training Algorithm\n",
    "\n",
    "Implement your training algorithm in the code cell below.  [Save the final model parameters](http://pytorch.org/docs/master/notes/serialization.html) at the filepath stored in the variable `save_path`."
   ]
  },
  {
   "cell_type": "code",
   "execution_count": 9,
   "metadata": {},
   "outputs": [],
   "source": [
    "import sys\n",
    "\n",
    "def train(n_epochs, loaders, model, optimizer, criterion, use_cuda, save_path):\n",
    "    \"\"\"returns trained model\"\"\"\n",
    "    # initialize tracker for minimum validation loss\n",
    "    valid_loss_min = np.Inf \n",
    "    \n",
    "    for epoch in range(1, n_epochs+1):\n",
    "        # initialize variables to monitor training and validation loss\n",
    "        train_loss = 0.0\n",
    "        valid_loss = 0.0\n",
    "        \n",
    "        ###################\n",
    "        # train the model #\n",
    "        ###################\n",
    "        # set the module to training mode\n",
    "        print(\"Training...\")\n",
    "        model.train()\n",
    "        num_batches_train = len(loaders['train'])\n",
    "        for batch_idx, (data, target) in enumerate(loaders['train']):\n",
    "            # move to GPU\n",
    "            if use_cuda:\n",
    "                data, target = data.cuda(), target.cuda()\n",
    "\n",
    "            sys.stdout.write(\"\\rProgress:\" + str(100 * batch_idx/float(num_batches_train))[:4] + \"%\")\n",
    "\n",
    "            ## TODO: find the loss and update the model parameters accordingly\n",
    "            ## record the average training loss, using something like\n",
    "            ## train_loss = train_loss + ((1 / (batch_idx + 1)) * (loss.data.item() - train_loss))\n",
    "            optimizer.zero_grad()\n",
    "            # forward pass: compute predicted outputs by passing inputs to the model\n",
    "            output = model(data)\n",
    "            # calculate the batch loss\n",
    "            loss = criterion(output, target)\n",
    "            # backward pass: compute gradient of the loss with respect to model parameters\n",
    "            loss.backward()\n",
    "            # perform a single optimization step (parameter update)\n",
    "            optimizer.step()\n",
    "            # update training loss\n",
    "            train_loss += ((1 / (batch_idx + 1)) * (loss.data.item() - train_loss))\n",
    "        \n",
    "        print()\n",
    "        print(\"Validation...\")\n",
    "\n",
    "        ######################    \n",
    "        # validate the model #\n",
    "        ######################\n",
    "        # set the model to evaluation mode\n",
    "        model.eval()\n",
    "        num_batches_valid = len(loaders['valid'])\n",
    "        for batch_idx, (data, target) in enumerate(loaders['valid']):\n",
    "            # move to GPU\n",
    "            if use_cuda:\n",
    "                data, target = data.cuda(), target.cuda()\n",
    "\n",
    "            sys.stdout.write(\"\\rProgress:\" + str(100 * batch_idx/float(num_batches_valid))[:4] + \"%\")\n",
    "\n",
    "            ## TODO: update average validation loss \n",
    "            output = model(data)\n",
    "            # calculate the batch loss\n",
    "            loss = criterion(output, target)\n",
    "            # update average validation loss \n",
    "            valid_loss += ((1 / (batch_idx + 1)) * (loss.data.item() - valid_loss))\n",
    "\n",
    "\n",
    "        print()            \n",
    "            \n",
    "\n",
    "        # print training/validation statistics \n",
    "        print('Epoch: {} \\tTraining Loss: {:.6f} \\tValidation Loss: {:.6f}'.format(\n",
    "            epoch, \n",
    "            train_loss,\n",
    "            valid_loss\n",
    "            ))\n",
    "\n",
    "        ## TODO: if the validation loss has decreased, save the model at the filepath stored in save_path\n",
    "        if valid_loss < valid_loss_min:\n",
    "            print('Validation loss decreased ({:.6f} --> {:.6f})!'.format(\n",
    "            valid_loss_min,\n",
    "            valid_loss))\n",
    "            torch.save(model.state_dict(), save_path)\n",
    "            valid_loss_min = valid_loss\n",
    "\n",
    "\n",
    "        \n",
    "    return model"
   ]
  },
  {
   "cell_type": "markdown",
   "metadata": {},
   "source": [
    "### (IMPLEMENTATION) Experiment with the Weight Initialization\n",
    "\n",
    "Use the code cell below to define a custom weight initialization, and then train with your weight initialization for a few epochs. Make sure that neither the training loss nor validation loss is `nan`.\n",
    "\n",
    "Later on, you will be able to see how this compares to training with PyTorch's default weight initialization."
   ]
  },
  {
   "cell_type": "code",
   "execution_count": 10,
   "metadata": {
    "scrolled": true
   },
   "outputs": [
    {
     "name": "stdout",
     "output_type": "stream",
     "text": [
      "Training...\n",
      "Progress:99.5%\n",
      "Validation...\n",
      "Progress:98.0%\n",
      "Epoch: 1 \tTraining Loss: 3.892308 \tValidation Loss: 3.831780\n",
      "Validation loss decreased (inf --> 3.831780)!\n",
      "Training...\n",
      "Progress:99.5%\n",
      "Validation...\n",
      "Progress:98.0%\n",
      "Epoch: 2 \tTraining Loss: 3.725636 \tValidation Loss: 3.691836\n",
      "Validation loss decreased (3.831780 --> 3.691836)!\n",
      "Training...\n",
      "Progress:99.5%\n",
      "Validation...\n",
      "Progress:98.0%\n",
      "Epoch: 3 \tTraining Loss: 3.523853 \tValidation Loss: 3.513452\n",
      "Validation loss decreased (3.691836 --> 3.513452)!\n",
      "Training...\n",
      "Progress:99.5%\n",
      "Validation...\n",
      "Progress:98.0%\n",
      "Epoch: 4 \tTraining Loss: 3.346672 \tValidation Loss: 3.362794\n",
      "Validation loss decreased (3.513452 --> 3.362794)!\n",
      "Training...\n",
      "Progress:99.5%\n",
      "Validation...\n",
      "Progress:98.0%\n",
      "Epoch: 5 \tTraining Loss: 3.188913 \tValidation Loss: 3.299458\n",
      "Validation loss decreased (3.362794 --> 3.299458)!\n",
      "Training...\n",
      "Progress:99.5%\n",
      "Validation...\n",
      "Progress:98.0%\n",
      "Epoch: 6 \tTraining Loss: 3.058075 \tValidation Loss: 3.291004\n",
      "Validation loss decreased (3.299458 --> 3.291004)!\n",
      "Training...\n",
      "Progress:99.5%\n",
      "Validation...\n",
      "Progress:98.0%\n",
      "Epoch: 7 \tTraining Loss: 2.903724 \tValidation Loss: 3.231876\n",
      "Validation loss decreased (3.291004 --> 3.231876)!\n",
      "Training...\n",
      "Progress:99.5%\n",
      "Validation...\n",
      "Progress:98.0%\n",
      "Epoch: 8 \tTraining Loss: 2.744940 \tValidation Loss: 3.107694\n",
      "Validation loss decreased (3.231876 --> 3.107694)!\n",
      "Training...\n",
      "Progress:99.5%\n",
      "Validation...\n",
      "Progress:98.0%\n",
      "Epoch: 9 \tTraining Loss: 2.580875 \tValidation Loss: 3.257993\n",
      "Training...\n",
      "Progress:99.5%\n",
      "Validation...\n",
      "Progress:98.0%\n",
      "Epoch: 10 \tTraining Loss: 2.405454 \tValidation Loss: 3.253828\n",
      "Training...\n",
      "Progress:99.5%\n",
      "Validation...\n",
      "Progress:98.0%\n",
      "Epoch: 11 \tTraining Loss: 2.210160 \tValidation Loss: 3.216312\n",
      "Training...\n",
      "Progress:99.5%\n",
      "Validation...\n",
      "Progress:98.0%\n",
      "Epoch: 12 \tTraining Loss: 1.984804 \tValidation Loss: 3.248300\n",
      "Training...\n",
      "Progress:99.5%\n",
      "Validation...\n",
      "Progress:98.0%\n",
      "Epoch: 13 \tTraining Loss: 1.749540 \tValidation Loss: 3.347567\n",
      "Training...\n",
      "Progress:99.5%\n",
      "Validation...\n",
      "Progress:98.0%\n",
      "Epoch: 14 \tTraining Loss: 1.481389 \tValidation Loss: 3.563507\n",
      "Training...\n",
      "Progress:99.5%\n",
      "Validation...\n",
      "Progress:98.0%\n",
      "Epoch: 15 \tTraining Loss: 1.251589 \tValidation Loss: 3.630371\n",
      "Training...\n",
      "Progress:99.5%\n",
      "Validation...\n",
      "Progress:98.0%\n",
      "Epoch: 16 \tTraining Loss: 1.070913 \tValidation Loss: 3.965129\n",
      "Training...\n",
      "Progress:99.5%\n",
      "Validation...\n",
      "Progress:98.0%\n",
      "Epoch: 17 \tTraining Loss: 0.835312 \tValidation Loss: 4.137377\n",
      "Training...\n",
      "Progress:99.5%\n",
      "Validation...\n",
      "Progress:98.0%\n",
      "Epoch: 18 \tTraining Loss: 0.708698 \tValidation Loss: 4.422403\n",
      "Training...\n",
      "Progress:99.5%\n",
      "Validation...\n",
      "Progress:98.0%\n",
      "Epoch: 19 \tTraining Loss: 0.584226 \tValidation Loss: 4.505729\n",
      "Training...\n",
      "Progress:99.5%\n",
      "Validation...\n",
      "Progress:98.0%\n",
      "Epoch: 20 \tTraining Loss: 0.478282 \tValidation Loss: 4.869204\n"
     ]
    }
   ],
   "source": [
    "def custom_weight_init(m):\n",
    "    ## TODO: implement a weight initialization strategy\n",
    "    classname = m.__class__.__name__\n",
    "    # for every Linear layer in a model\n",
    "    # m.weight.data shoud be taken from a normal distribution\n",
    "    # m.bias.data should be 0\n",
    "    if classname.find('Linear') != -1:\n",
    "        # get the number of the inputs\n",
    "        n = m.in_features\n",
    "        y = 1.0/np.sqrt(n)\n",
    "        m.weight.data.normal_(0, y)\n",
    "        m.bias.data.fill_(0)    \n",
    "    \n",
    "\n",
    "#-#-# Do NOT modify the code below this line. #-#-#\n",
    "    \n",
    "model_scratch.apply(custom_weight_init)\n",
    "model_scratch = train(20, loaders_scratch, model_scratch, get_optimizer_scratch(model_scratch),\n",
    "                      criterion_scratch, use_cuda, 'ignore.pt')"
   ]
  },
  {
   "cell_type": "markdown",
   "metadata": {},
   "source": [
    "### (IMPLEMENTATION) Train and Validate the Model\n",
    "\n",
    "Run the next code cell to train your model."
   ]
  },
  {
   "cell_type": "code",
   "execution_count": 17,
   "metadata": {
    "scrolled": false
   },
   "outputs": [
    {
     "name": "stdout",
     "output_type": "stream",
     "text": [
      "Training...\n",
      "Progress:99.5%\n",
      "Validation...\n",
      "Progress:98.0%\n",
      "Epoch: 1 \tTraining Loss: 3.909758 \tValidation Loss: 3.906035\n",
      "Validation loss decreased (inf --> 3.906035)!\n",
      "Training...\n",
      "Progress:99.5%\n",
      "Validation...\n",
      "Progress:98.0%\n",
      "Epoch: 2 \tTraining Loss: 3.849644 \tValidation Loss: 3.799575\n",
      "Validation loss decreased (3.906035 --> 3.799575)!\n",
      "Training...\n",
      "Progress:99.5%\n",
      "Validation...\n",
      "Progress:98.0%\n",
      "Epoch: 3 \tTraining Loss: 3.681428 \tValidation Loss: 3.639861\n",
      "Validation loss decreased (3.799575 --> 3.639861)!\n",
      "Training...\n",
      "Progress:99.5%\n",
      "Validation...\n",
      "Progress:98.0%\n",
      "Epoch: 4 \tTraining Loss: 3.487747 \tValidation Loss: 3.472609\n",
      "Validation loss decreased (3.639861 --> 3.472609)!\n",
      "Training...\n",
      "Progress:99.5%\n",
      "Validation...\n",
      "Progress:98.0%\n",
      "Epoch: 5 \tTraining Loss: 3.356598 \tValidation Loss: 3.397127\n",
      "Validation loss decreased (3.472609 --> 3.397127)!\n",
      "Training...\n",
      "Progress:99.5%\n",
      "Validation...\n",
      "Progress:98.0%\n",
      "Epoch: 6 \tTraining Loss: 3.258259 \tValidation Loss: 3.325356\n",
      "Validation loss decreased (3.397127 --> 3.325356)!\n",
      "Training...\n",
      "Progress:99.5%\n",
      "Validation...\n",
      "Progress:98.0%\n",
      "Epoch: 7 \tTraining Loss: 3.136436 \tValidation Loss: 3.282831\n",
      "Validation loss decreased (3.325356 --> 3.282831)!\n",
      "Training...\n",
      "Progress:99.5%\n",
      "Validation...\n",
      "Progress:98.0%\n",
      "Epoch: 8 \tTraining Loss: 3.030421 \tValidation Loss: 3.323460\n",
      "Training...\n",
      "Progress:99.5%\n",
      "Validation...\n",
      "Progress:98.0%\n",
      "Epoch: 9 \tTraining Loss: 2.887987 \tValidation Loss: 3.202557\n",
      "Validation loss decreased (3.282831 --> 3.202557)!\n",
      "Training...\n",
      "Progress:99.5%\n",
      "Validation...\n",
      "Progress:98.0%\n",
      "Epoch: 10 \tTraining Loss: 2.745941 \tValidation Loss: 3.112439\n",
      "Validation loss decreased (3.202557 --> 3.112439)!\n",
      "Training...\n",
      "Progress:99.5%\n",
      "Validation...\n",
      "Progress:98.0%\n",
      "Epoch: 11 \tTraining Loss: 2.596205 \tValidation Loss: 3.139051\n",
      "Training...\n",
      "Progress:99.5%\n",
      "Validation...\n",
      "Progress:98.0%\n",
      "Epoch: 12 \tTraining Loss: 2.409132 \tValidation Loss: 3.142363\n",
      "Training...\n",
      "Progress:99.5%\n",
      "Validation...\n",
      "Progress:98.0%\n",
      "Epoch: 13 \tTraining Loss: 2.223901 \tValidation Loss: 3.186352\n",
      "Training...\n",
      "Progress:99.5%\n",
      "Validation...\n",
      "Progress:98.0%\n",
      "Epoch: 14 \tTraining Loss: 2.020140 \tValidation Loss: 3.381394\n",
      "Training...\n",
      "Progress:99.5%\n",
      "Validation...\n",
      "Progress:98.0%\n",
      "Epoch: 15 \tTraining Loss: 1.809310 \tValidation Loss: 3.338980\n",
      "Training...\n",
      "Progress:99.5%\n",
      "Validation...\n",
      "Progress:98.0%\n",
      "Epoch: 16 \tTraining Loss: 1.552243 \tValidation Loss: 3.623166\n",
      "Training...\n",
      "Progress:99.5%\n",
      "Validation...\n",
      "Progress:98.0%\n",
      "Epoch: 17 \tTraining Loss: 1.296374 \tValidation Loss: 3.891116\n",
      "Training...\n",
      "Progress:99.5%\n",
      "Validation...\n",
      "Progress:98.0%\n",
      "Epoch: 18 \tTraining Loss: 1.097987 \tValidation Loss: 4.006242\n",
      "Training...\n",
      "Progress:99.5%\n",
      "Validation...\n",
      "Progress:98.0%\n",
      "Epoch: 19 \tTraining Loss: 0.883899 \tValidation Loss: 4.332242\n",
      "Training...\n",
      "Progress:99.5%\n",
      "Validation...\n",
      "Progress:98.0%\n",
      "Epoch: 20 \tTraining Loss: 0.733605 \tValidation Loss: 4.443205\n",
      "Training...\n",
      "Progress:99.5%\n",
      "Validation...\n",
      "Progress:98.0%\n",
      "Epoch: 21 \tTraining Loss: 0.609667 \tValidation Loss: 4.664113\n",
      "Training...\n",
      "Progress:99.5%\n",
      "Validation...\n",
      "Progress:98.0%\n",
      "Epoch: 22 \tTraining Loss: 0.547770 \tValidation Loss: 5.049171\n",
      "Training...\n",
      "Progress:99.5%\n",
      "Validation...\n",
      "Progress:98.0%\n",
      "Epoch: 23 \tTraining Loss: 0.455608 \tValidation Loss: 5.125814\n",
      "Training...\n",
      "Progress:99.5%\n",
      "Validation...\n",
      "Progress:98.0%\n",
      "Epoch: 24 \tTraining Loss: 0.370224 \tValidation Loss: 5.413349\n",
      "Training...\n",
      "Progress:99.5%\n",
      "Validation...\n",
      "Progress:98.0%\n",
      "Epoch: 25 \tTraining Loss: 0.329886 \tValidation Loss: 5.318616\n"
     ]
    }
   ],
   "source": [
    "## TODO: you may change the number of epochs if you'd like,\n",
    "## but changing it is not required\n",
    "num_epochs = 25\n",
    "\n",
    "#-#-# Do NOT modify the code below this line. #-#-#\n",
    "\n",
    "# function to re-initialize a model with pytorch's default weight initialization\n",
    "def default_weight_init(m):\n",
    "    reset_parameters = getattr(m, 'reset_parameters', None)\n",
    "    if callable(reset_parameters):\n",
    "        m.reset_parameters()\n",
    "\n",
    "# reset the model parameters\n",
    "model_scratch.apply(default_weight_init)\n",
    "\n",
    "# train the model\n",
    "model_scratch = train(num_epochs, loaders_scratch, model_scratch, get_optimizer_scratch(model_scratch), \n",
    "                      criterion_scratch, use_cuda, 'model_scratch.pt')"
   ]
  },
  {
   "cell_type": "markdown",
   "metadata": {},
   "source": [
    "### (IMPLEMENTATION) Test the Model\n",
    "\n",
    "Run the code cell below to try out your model on the test dataset of landmark images. Run the code cell below to calculate and print the test loss and accuracy.  Ensure that your test accuracy is greater than 20%."
   ]
  },
  {
   "cell_type": "code",
   "execution_count": 21,
   "metadata": {
    "scrolled": false
   },
   "outputs": [
    {
     "name": "stdout",
     "output_type": "stream",
     "text": [
      "Progress:98.4%\n",
      "Test Loss: 3.031330\n",
      "\n",
      "\n",
      "Test Accuracy: 26% (326/1250)\n"
     ]
    }
   ],
   "source": [
    "def test(loaders, model, criterion, use_cuda):\n",
    "\n",
    "    # monitor test loss and accuracy\n",
    "    test_loss = 0.\n",
    "    correct = 0.\n",
    "    total = 0.\n",
    "\n",
    "    # set the module to evaluation mode\n",
    "    model.eval()\n",
    "\n",
    "    num_batches_test = len(loaders['test'])\n",
    "    for batch_idx, (data, target) in enumerate(loaders['test']):\n",
    "        # move to GPU\n",
    "        if use_cuda:\n",
    "            data, target = data.cuda(), target.cuda()\n",
    "        \n",
    "        sys.stdout.write(\"\\rProgress:\" + str(100 * batch_idx/float(num_batches_test))[:4] + \"%\")\n",
    "\n",
    "        # forward pass: compute predicted outputs by passing inputs to the model\n",
    "        output = model(data)\n",
    "        # calculate the loss\n",
    "        loss = criterion(output, target)\n",
    "        # update average test loss \n",
    "        test_loss = test_loss + ((1 / (batch_idx + 1)) * (loss.data.item() - test_loss))\n",
    "        # convert output probabilities to predicted class\n",
    "        pred = output.data.max(1, keepdim=True)[1]\n",
    "        # compare predictions to true label\n",
    "        correct += np.sum(np.squeeze(pred.eq(target.data.view_as(pred))).cpu().numpy())\n",
    "        total += data.size(0)\n",
    "    \n",
    "    print()\n",
    "            \n",
    "    print('Test Loss: {:.6f}\\n'.format(test_loss))\n",
    "\n",
    "    print('\\nTest Accuracy: %2d%% (%2d/%2d)' % (\n",
    "        100. * correct / total, correct, total))\n",
    "\n",
    "# load the model that got the best validation accuracy\n",
    "model_scratch.load_state_dict(torch.load('model_scratch.pt'))\n",
    "test(loaders_scratch, model_scratch, criterion_scratch, use_cuda)"
   ]
  },
  {
   "cell_type": "markdown",
   "metadata": {},
   "source": [
    "---\n",
    "<a id='step2'></a>\n",
    "## Step 2: Create a CNN to Classify Landmarks (using Transfer Learning)\n",
    "\n",
    "You will now use transfer learning to create a CNN that can identify landmarks from images.  Your CNN must attain at least 60% accuracy on the test set.\n",
    "\n",
    "### (IMPLEMENTATION) Specify Data Loaders for the Landmark Dataset\n",
    "\n",
    "Use the code cell below to create three separate [data loaders](http://pytorch.org/docs/stable/data.html#torch.utils.data.DataLoader): one for training data, one for validation data, and one for test data. Randomly split the images located at `landmark_images/train` to create the train and validation data loaders, and use the images located at `landmark_images/test` to create the test data loader.\n",
    "\n",
    "All three of your data loaders should be accessible via a dictionary named `loaders_transfer`. Your train data loader should be at `loaders_transfer['train']`, your validation data loader should be at `loaders_transfer['valid']`, and your test data loader should be at `loaders_transfer['test']`.\n",
    "\n",
    "If you like, **you are welcome to use the same data loaders from the previous step**, when you created a CNN from scratch."
   ]
  },
  {
   "cell_type": "code",
   "execution_count": null,
   "metadata": {},
   "outputs": [],
   "source": [
    "### TODO: Write data loaders for training, validation, and test sets\n",
    "## Specify appropriate transforms, and batch_sizes\n",
    "\n",
    "loaders_transfer = {'train': None, 'valid': None, 'test': None}\n",
    "\n",
    "\n",
    "\n"
   ]
  },
  {
   "cell_type": "markdown",
   "metadata": {},
   "source": [
    "### (IMPLEMENTATION) Specify Loss Function and Optimizer\n",
    "\n",
    "Use the next code cell to specify a [loss function](http://pytorch.org/docs/stable/nn.html#loss-functions) and [optimizer](http://pytorch.org/docs/stable/optim.html).  Save the chosen loss function as `criterion_transfer`, and fill in the function `get_optimizer_transfer` below."
   ]
  },
  {
   "cell_type": "code",
   "execution_count": null,
   "metadata": {},
   "outputs": [],
   "source": [
    "## TODO: select loss function\n",
    "criterion_transfer = None\n",
    "\n",
    "\n",
    "def get_optimizer_transfer(model):\n",
    "    ## TODO: select and return optimizer\n",
    "\n",
    "    \n",
    "    "
   ]
  },
  {
   "cell_type": "markdown",
   "metadata": {},
   "source": [
    "### (IMPLEMENTATION) Model Architecture\n",
    "\n",
    "Use transfer learning to create a CNN to classify images of landmarks.  Use the code cell below, and save your initialized model as the variable `model_transfer`."
   ]
  },
  {
   "cell_type": "code",
   "execution_count": null,
   "metadata": {},
   "outputs": [],
   "source": [
    "## TODO: Specify model architecture\n",
    "\n",
    "model_transfer = None\n",
    "\n",
    "\n",
    "\n",
    "\n",
    "#-#-# Do NOT modify the code below this line. #-#-#\n",
    "\n",
    "if use_cuda:\n",
    "    model_transfer = model_transfer.cuda()"
   ]
  },
  {
   "cell_type": "markdown",
   "metadata": {},
   "source": [
    "__Question 3:__ Outline the steps you took to get to your final CNN architecture and your reasoning at each step.  Describe why you think the architecture is suitable for the current problem."
   ]
  },
  {
   "cell_type": "markdown",
   "metadata": {},
   "source": [
    "__Answer:__  "
   ]
  },
  {
   "cell_type": "markdown",
   "metadata": {},
   "source": [
    "### (IMPLEMENTATION) Train and Validate the Model\n",
    "\n",
    "Train and validate your model in the code cell below.  [Save the final model parameters](http://pytorch.org/docs/master/notes/serialization.html) at filepath `'model_transfer.pt'`."
   ]
  },
  {
   "cell_type": "code",
   "execution_count": null,
   "metadata": {},
   "outputs": [],
   "source": [
    "# TODO: train the model and save the best model parameters at filepath 'model_transfer.pt'\n",
    "\n",
    "\n",
    "\n",
    "#-#-# Do NOT modify the code below this line. #-#-#\n",
    "\n",
    "# load the model that got the best validation accuracy\n",
    "model_transfer.load_state_dict(torch.load('model_transfer.pt'))"
   ]
  },
  {
   "cell_type": "markdown",
   "metadata": {},
   "source": [
    "### (IMPLEMENTATION) Test the Model\n",
    "\n",
    "Try out your model on the test dataset of landmark images. Use the code cell below to calculate and print the test loss and accuracy.  Ensure that your test accuracy is greater than 60%."
   ]
  },
  {
   "cell_type": "code",
   "execution_count": null,
   "metadata": {},
   "outputs": [],
   "source": [
    "test(loaders_transfer, model_transfer, criterion_transfer, use_cuda)"
   ]
  },
  {
   "cell_type": "markdown",
   "metadata": {},
   "source": [
    "---\n",
    "<a id='step3'></a>\n",
    "## Step 3: Write Your Landmark Prediction Algorithm\n",
    "\n",
    "Great job creating your CNN models! Now that you have put in all the hard work of creating accurate classifiers, let's define some functions to make it easy for others to use your classifiers.\n",
    "\n",
    "### (IMPLEMENTATION) Write Your Algorithm, Part 1\n",
    "\n",
    "Implement the function `predict_landmarks`, which accepts a file path to an image and an integer k, and then predicts the **top k most likely landmarks**. You are **required** to use your transfer learned CNN from Step 2 to predict the landmarks.\n",
    "\n",
    "An example of the expected behavior of `predict_landmarks`:\n",
    "```\n",
    ">>> predicted_landmarks = predict_landmarks('example_image.jpg', 3)\n",
    ">>> print(predicted_landmarks)\n",
    "['Golden Gate Bridge', 'Brooklyn Bridge', 'Sydney Harbour Bridge']\n",
    "```"
   ]
  },
  {
   "cell_type": "code",
   "execution_count": null,
   "metadata": {},
   "outputs": [],
   "source": [
    "import cv2\n",
    "from PIL import Image\n",
    "\n",
    "## the class names can be accessed at the `classes` attribute\n",
    "## of your dataset object (e.g., `train_dataset.classes`)\n",
    "\n",
    "def predict_landmarks(img_path, k):\n",
    "    ## TODO: return the names of the top k landmarks predicted by the transfer learned CNN\n",
    "    \n",
    "\n",
    "\n",
    "# test on a sample image\n",
    "predict_landmarks('images/test/09.Golden_Gate_Bridge/190f3bae17c32c37.jpg', 5)"
   ]
  },
  {
   "cell_type": "markdown",
   "metadata": {},
   "source": [
    "### (IMPLEMENTATION) Write Your Algorithm, Part 2\n",
    "\n",
    "In the code cell below, implement the function `suggest_locations`, which accepts a file path to an image as input, and then displays the image and the **top 3 most likely landmarks** as predicted by `predict_landmarks`.\n",
    "\n",
    "Some sample output for `suggest_locations` is provided below, but feel free to design your own user experience!\n",
    "![](images/sample_landmark_output.png)"
   ]
  },
  {
   "cell_type": "code",
   "execution_count": null,
   "metadata": {},
   "outputs": [],
   "source": [
    "def suggest_locations(img_path):\n",
    "    # get landmark predictions\n",
    "    predicted_landmarks = predict_landmarks(img_path, 3)\n",
    "    \n",
    "    ## TODO: display image and display landmark predictions\n",
    "\n",
    "    \n",
    "    \n",
    "\n",
    "# test on a sample image\n",
    "suggest_locations('images/test/09.Golden_Gate_Bridge/190f3bae17c32c37.jpg')"
   ]
  },
  {
   "cell_type": "markdown",
   "metadata": {},
   "source": [
    "### (IMPLEMENTATION) Test Your Algorithm\n",
    "\n",
    "Test your algorithm by running the `suggest_locations` function on at least four images on your computer. Feel free to use any images you like.\n",
    "\n",
    "__Question 4:__ Is the output better than you expected :) ?  Or worse :( ?  Provide at least three possible points of improvement for your algorithm."
   ]
  },
  {
   "cell_type": "markdown",
   "metadata": {},
   "source": [
    "__Answer:__ (Three possible points for improvement)"
   ]
  },
  {
   "cell_type": "code",
   "execution_count": null,
   "metadata": {},
   "outputs": [],
   "source": [
    "## TODO: Execute the `suggest_locations` function on\n",
    "## at least 4 images on your computer.\n",
    "## Feel free to use as many code cells as needed.\n",
    "\n"
   ]
  }
 ],
 "metadata": {
  "kernelspec": {
   "display_name": "Python 3 (ipykernel)",
   "language": "python",
   "name": "python3"
  },
  "language_info": {
   "codemirror_mode": {
    "name": "ipython",
    "version": 3
   },
   "file_extension": ".py",
   "mimetype": "text/x-python",
   "name": "python",
   "nbconvert_exporter": "python",
   "pygments_lexer": "ipython3",
   "version": "3.9.12"
  }
 },
 "nbformat": 4,
 "nbformat_minor": 2
}
